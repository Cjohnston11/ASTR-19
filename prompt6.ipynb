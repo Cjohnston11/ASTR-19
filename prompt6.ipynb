{
 "cells": [
  {
   "cell_type": "markdown",
   "id": "ab5af963-b704-4ff1-b3eb-2a4eee5fc9e5",
   "metadata": {},
   "source": [
    "# PROMPT 6"
   ]
  },
  {
   "cell_type": "markdown",
   "id": "bba129f2-d450-4083-9f28-d2a5d82e3142",
   "metadata": {},
   "source": [
    "import library for sin and cos"
   ]
  },
  {
   "cell_type": "code",
   "execution_count": 32,
   "id": "7001cc61-55d8-4ecc-8a9c-30dab4e561ae",
   "metadata": {},
   "outputs": [],
   "source": [
    "import numpy as np"
   ]
  },
  {
   "cell_type": "markdown",
   "id": "ce004fee-df4f-4597-b63b-70b272610a78",
   "metadata": {},
   "source": [
    "function that returns sin of x "
   ]
  },
  {
   "cell_type": "code",
   "execution_count": 33,
   "id": "669ad956-fcce-43e8-914a-424980eacf36",
   "metadata": {},
   "outputs": [],
   "source": [
    "def sin(x):\n",
    "    return np.sin(x) "
   ]
  },
  {
   "cell_type": "markdown",
   "id": "76349bf1-fc3f-409b-a901-853f57c775af",
   "metadata": {},
   "source": [
    "function that returns cos of x "
   ]
  },
  {
   "cell_type": "code",
   "execution_count": 34,
   "id": "eb206dc3-a70e-4749-8de7-13fdd61f3dbe",
   "metadata": {},
   "outputs": [],
   "source": [
    "def cos(x):\n",
    "    return np.cos(x) "
   ]
  },
  {
   "cell_type": "markdown",
   "id": "14fc2d78-1345-4f4b-b4d4-297791f936e4",
   "metadata": {},
   "source": [
    "tabulated 1000 values between 0 and 2pi "
   ]
  },
  {
   "cell_type": "code",
   "execution_count": 35,
   "id": "26cbc217-8a1d-45cf-85d6-b6bdc0db5c66",
   "metadata": {},
   "outputs": [],
   "source": [
    "x = np.linspace(0.0, 2*np.pi, num=1000) \n"
   ]
  },
  {
   "cell_type": "markdown",
   "id": "28fe3566-2396-4d22-844c-b0bb34fe0f2f",
   "metadata": {},
   "source": [
    "iterator of 10 print x, sinx, and cos x "
   ]
  },
  {
   "cell_type": "code",
   "execution_count": 36,
   "id": "2be79ef0-76c3-4862-a66b-33d42f920869",
   "metadata": {},
   "outputs": [
    {
     "name": "stdout",
     "output_type": "stream",
     "text": [
      "   x   |sin(x) | cos(x)\n",
      "--------------------------\n",
      " 0.000 | 0.000 | 1.000\n",
      " 0.006 | 0.006 | 1.000\n",
      " 0.013 | 0.013 | 1.000\n",
      " 0.019 | 0.019 | 1.000\n",
      " 0.025 | 0.025 | 1.000\n",
      " 0.031 | 0.031 | 1.000\n",
      " 0.038 | 0.038 | 0.999\n",
      " 0.044 | 0.044 | 0.999\n",
      " 0.050 | 0.050 | 0.999\n",
      " 0.057 | 0.057 | 0.998\n"
     ]
    }
   ],
   "source": [
    "#print table \n",
    "print (\"   x   |sin(x) | cos(x)\")\n",
    "print (\"--------------------------\") \n",
    "for i in range(10):\n",
    "    print(f\" {x[i]:.3f} | {sin(x)[i]:.3f} | {cos(x)[i]:.3f}\") "
   ]
  },
  {
   "cell_type": "code",
   "execution_count": null,
   "id": "bf284816-2089-4f77-b108-6cbe46d45717",
   "metadata": {},
   "outputs": [],
   "source": []
  },
  {
   "cell_type": "code",
   "execution_count": null,
   "id": "f5b4533a-61aa-4ad2-aaac-cfd662b0368a",
   "metadata": {},
   "outputs": [],
   "source": []
  }
 ],
 "metadata": {
  "kernelspec": {
   "display_name": "Python 3 (ipykernel)",
   "language": "python",
   "name": "python3"
  },
  "language_info": {
   "codemirror_mode": {
    "name": "ipython",
    "version": 3
   },
   "file_extension": ".py",
   "mimetype": "text/x-python",
   "name": "python",
   "nbconvert_exporter": "python",
   "pygments_lexer": "ipython3",
   "version": "3.12.0"
  }
 },
 "nbformat": 4,
 "nbformat_minor": 5
}
